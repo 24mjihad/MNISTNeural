{
  "nbformat": 4,
  "nbformat_minor": 0,
  "metadata": {
    "colab": {
      "provenance": []
    },
    "kernelspec": {
      "name": "python3",
      "display_name": "Python 3"
    },
    "language_info": {
      "name": "python"
    }
  },
  "cells": [
    {
      "cell_type": "markdown",
      "source": [
        "Import"
      ],
      "metadata": {
        "id": "pXJi1bBrQ6BS"
      }
    },
    {
      "cell_type": "code",
      "execution_count": null,
      "metadata": {
        "id": "MMQEDk9jZyv7"
      },
      "outputs": [],
      "source": [
        "import numpy as np\n",
        "import matplotlib.pyplot as plt\n",
        "%matplotlib inline\n",
        "import time"
      ]
    },
    {
      "cell_type": "code",
      "source": [
        "train_file = open('/content/mnist_train.csv',\"r\")\n",
        "train_list = train_file.readlines()\n",
        "train_file.close()\n",
        "print(len(train_list))\n"
      ],
      "metadata": {
        "colab": {
          "base_uri": "https://localhost:8080/"
        },
        "id": "qx940vWzPqK5",
        "outputId": "c1f90a43-4a21-46d8-d016-5c1ec457be55"
      },
      "execution_count": null,
      "outputs": [
        {
          "output_type": "stream",
          "name": "stdout",
          "text": [
            "60000\n"
          ]
        }
      ]
    },
    {
      "cell_type": "code",
      "source": [
        "test_file = open('/content/mnist_test.csv',\"r\")\n",
        "test_list = test_file.readlines()\n",
        "test_file.close()\n",
        "print(len(test_list))"
      ],
      "metadata": {
        "colab": {
          "base_uri": "https://localhost:8080/"
        },
        "id": "VrKVeVpoQwaB",
        "outputId": "4180d00b-6f95-4128-f229-be5952d43815"
      },
      "execution_count": null,
      "outputs": [
        {
          "output_type": "stream",
          "name": "stdout",
          "text": [
            "10000\n"
          ]
        }
      ]
    },
    {
      "cell_type": "markdown",
      "source": [
        "NN"
      ],
      "metadata": {
        "id": "gkHxagCoQ_QT"
      }
    },
    {
      "cell_type": "code",
      "source": [
        "class InitialParams:\n",
        "    def weights(n_inputs, n_neurons):\n",
        "        return 0.01 * np.random.randn(n_inputs, n_neurons)\n",
        "\n",
        "    def biases(n_neurons):\n",
        "        return np.zeros((1, n_neurons))\n",
        "\n",
        "def var():\n",
        "    W1 = InitialParams.weights(784, 128)\n",
        "    W2 = InitialParams.weights(128, 128)\n",
        "    W3 = InitialParams.weights(128, 10)\n",
        "    B1 = InitialParams.biases(128)\n",
        "    B2 = InitialParams.biases(128)\n",
        "    B3 = InitialParams.biases(10)\n",
        "    return W1, W2, W3, B1, B2, B3"
      ],
      "metadata": {
        "id": "NX9k86ZSeCcG"
      },
      "execution_count": null,
      "outputs": []
    },
    {
      "cell_type": "code",
      "source": [
        "W1"
      ],
      "metadata": {
        "colab": {
          "base_uri": "https://localhost:8080/"
        },
        "id": "pSrz0HI3lu9g",
        "outputId": "0347b07c-8f52-4179-f820-1ff61dce1364"
      },
      "execution_count": null,
      "outputs": [
        {
          "output_type": "execute_result",
          "data": {
            "text/plain": [
              "array([[ 0.00835223,  0.0014986 ,  0.00884468, ...,  0.00822859,\n",
              "         0.00046029, -0.02000602],\n",
              "       [ 0.00115811,  0.00703135, -0.0088682 , ..., -0.00315882,\n",
              "        -0.00645558,  0.00990425],\n",
              "       [ 0.00462074, -0.00176794,  0.00341207, ..., -0.00323257,\n",
              "         0.01085965,  0.02371297],\n",
              "       ...,\n",
              "       [-0.00294225,  0.01046543,  0.00271345, ..., -0.00898752,\n",
              "         0.01202212,  0.01307228],\n",
              "       [-0.00107769, -0.0168346 , -0.01143539, ..., -0.01538967,\n",
              "         0.01079478,  0.03044867],\n",
              "       [-0.01477234,  0.01117544, -0.00642217, ..., -0.00022524,\n",
              "         0.0045686 ,  0.00588753]])"
            ]
          },
          "metadata": {},
          "execution_count": 82
        }
      ]
    },
    {
      "cell_type": "code",
      "source": [
        "def ReLU(x):\n",
        "  return np.maximum(0,x)\n",
        "\n",
        "def softmax(inputs):\n",
        "  exp_values=np.exp(inputs-np.max(inputs, axis=1,keepdims=True))\n",
        "  probabilities = exp_values/np.sum(exp_values,axis=1,keepdims=True)\n",
        "  return probabilities"
      ],
      "metadata": {
        "id": "jxzkvoHPolR5"
      },
      "execution_count": null,
      "outputs": []
    },
    {
      "cell_type": "code",
      "source": [
        "def forward(W1, W2, W3, B1, B2, B3,inputs):\n",
        "  Z1 = np.dot(inputs,W1) + B1\n",
        "  A1 = ReLU(Z1)\n",
        "  Z2 = np.dot(A1,W2)+B2\n",
        "  A2 = ReLU(Z2)\n",
        "  Z3 = (A2,W3) + B3\n",
        "  A3 = softmax(Z3)"
      ],
      "metadata": {
        "id": "Skz1hQxOmsEp"
      },
      "execution_count": null,
      "outputs": []
    },
    {
      "cell_type": "code",
      "source": [
        "class Loss:\n",
        "    def calculate(self,output,y):\n",
        "        sample_losses = self.forward(output,y)\n",
        "        data_loss = np.mean(sample_losses)\n",
        "        return data_loss\n",
        "\n",
        "class Loss_CategoriclaCrossentropy(Loss):\n",
        "    def forward(self,y_pred,y_true):\n",
        "        samples = len(y_pred)\n",
        "        y_pred_clipped = np.clip(y_pred,1e-7,1-1e-7)\n",
        "\n",
        "        if len(y_true.shape) ==1:\n",
        "            correct_confidences = y_pred_clipped[range(samples),y_true]\n",
        "        elif len(y_true.shape) ==2:\n",
        "            correct_confidences=np.sum(y_pred_clipped*y_true,axis=1)\n",
        "\n",
        "        negative_log_likelihoods = -np.log(correct_confidences)\n",
        "        return negative_log_likelihoods"
      ],
      "metadata": {
        "id": "4_3Jw9hSu8_0"
      },
      "execution_count": 97,
      "outputs": []
    },
    {
      "cell_type": "code",
      "source": [
        "def backward():\n",
        "  pass"
      ],
      "metadata": {
        "id": "hBUU8SIgqvTT"
      },
      "execution_count": null,
      "outputs": []
    },
    {
      "cell_type": "code",
      "source": [],
      "metadata": {
        "id": "XjYtdMxfrSpY"
      },
      "execution_count": null,
      "outputs": []
    }
  ]
}