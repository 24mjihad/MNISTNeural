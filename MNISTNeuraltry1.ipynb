{
  "nbformat": 4,
  "nbformat_minor": 0,
  "metadata": {
    "colab": {
      "provenance": [],
      "toc_visible": true
    },
    "kernelspec": {
      "name": "python3",
      "display_name": "Python 3"
    },
    "language_info": {
      "name": "python"
    }
  },
  "cells": [
    {
      "cell_type": "markdown",
      "source": [
        "basic neuron"
      ],
      "metadata": {
        "id": "QmSH7FLxHykn"
      }
    },
    {
      "cell_type": "code",
      "execution_count": 4,
      "metadata": {
        "id": "uwpOVhQJV_Vl",
        "colab": {
          "base_uri": "https://localhost:8080/"
        },
        "outputId": "20c0f139-5584-4f61-e61c-9e8e9d796c82"
      },
      "outputs": [
        {
          "output_type": "stream",
          "name": "stdout",
          "text": [
            "3.2\n"
          ]
        }
      ],
      "source": [
        "import numpy as np\n",
        "inputs = [2,4,7]\n",
        "weights = [.3,.5,-.2]\n",
        "bias=2\n",
        "\n",
        "output = np.dot(inputs,weights)\n",
        "output+=bias\n",
        "\n",
        "print(output)"
      ]
    },
    {
      "cell_type": "markdown",
      "source": [
        "ReLU Activation"
      ],
      "metadata": {
        "id": "mYGhYZsOI0x8"
      }
    },
    {
      "cell_type": "code",
      "source": [
        "# y=max(0,x)\n",
        "\n",
        "\n",
        "Y= max(0,output)\n",
        "print(output)"
      ],
      "metadata": {
        "colab": {
          "base_uri": "https://localhost:8080/"
        },
        "id": "-n4XKubhJPil",
        "outputId": "c399cc05-04a9-4b2b-dc40-22626a6a305c"
      },
      "execution_count": 6,
      "outputs": [
        {
          "output_type": "stream",
          "name": "stdout",
          "text": [
            "3.2\n"
          ]
        }
      ]
    },
    {
      "cell_type": "markdown",
      "source": [
        "Random initalization using numpy of weights"
      ],
      "metadata": {
        "id": "cYdIpwYEJvCa"
      }
    },
    {
      "cell_type": "code",
      "source": [
        "inputs = np.random.randint(0,10,3)\n",
        "weights = np.random.random(3) #random decimal\n",
        "bias=10\n",
        "print(inputs,weights,bias)\n",
        "output = np.dot(inputs,weights)+bias\n",
        "print(output)"
      ],
      "metadata": {
        "colab": {
          "base_uri": "https://localhost:8080/"
        },
        "id": "5dSyWrssJV5J",
        "outputId": "adb3ac09-262e-4733-bb69-29cd0ccb2aaf"
      },
      "execution_count": 18,
      "outputs": [
        {
          "output_type": "stream",
          "name": "stdout",
          "text": [
            "[5 1 5] [0.03200968 0.90605185 0.66321714] 10\n",
            "14.382185963781485\n"
          ]
        }
      ]
    },
    {
      "cell_type": "markdown",
      "source": [
        "A layer"
      ],
      "metadata": {
        "id": "j3OXAyWnK02a"
      }
    },
    {
      "cell_type": "code",
      "source": [
        "weights = np.random.random((4,3)) # matrix\n",
        "print(weights)\n",
        "biases = np.random.randint(0,5,4)\n",
        "print(inputs)\n",
        "print(inputs.shape,weights.shape)\n",
        "\n",
        "output = np.dot(inputs,weights.T)+biases #.T because row but match column\n",
        "print(\"outputs:\",output)"
      ],
      "metadata": {
        "colab": {
          "base_uri": "https://localhost:8080/"
        },
        "id": "pbEjwrCXK0c9",
        "outputId": "1bece7fb-853d-403f-ae07-498bb945b454"
      },
      "execution_count": 32,
      "outputs": [
        {
          "output_type": "stream",
          "name": "stdout",
          "text": [
            "[[0.89122792 0.30939651 0.96908923]\n",
            " [0.16275383 0.87526484 0.19462727]\n",
            " [0.46061877 0.39556569 0.65574359]\n",
            " [0.08471699 0.73944593 0.89186392]]\n",
            "[5 1 5]\n",
            "(3,) (4, 3)\n",
            "outputs: [11.61098225  2.66217033  9.97737753  6.6223505 ]\n"
          ]
        }
      ]
    },
    {
      "cell_type": "markdown",
      "source": [
        "2 Layer"
      ],
      "metadata": {
        "id": "gAr6XKMjNGbJ"
      }
    },
    {
      "cell_type": "code",
      "source": [
        "inputs = np.random.randint(0,10,3) # inputs\n",
        "weights1 = np.random.random((4,3)) # matrix  4 neurons, 3 weights each\n",
        "biases1 = np.random.randint(0,5,4) #biases for each neuron in layer1\n",
        "\n",
        "output1 = np.dot(inputs,weights1.T)+biases1 #.T because row but match column\n",
        "print(output1) # four outputs\n",
        "\n",
        "\n",
        "weights2 = np.random.random((3,4))\n",
        "biases2 = np.random.randint(0,5,3)\n",
        "\n",
        "output2 = np.dot(output1,weights2.T) + biases2\n",
        "print(output2)\n"
      ],
      "metadata": {
        "colab": {
          "base_uri": "https://localhost:8080/"
        },
        "id": "E_CSuib5NF6R",
        "outputId": "2314fa3c-0d31-408e-a439-26d78fa0ea8d"
      },
      "execution_count": 34,
      "outputs": [
        {
          "output_type": "stream",
          "name": "stdout",
          "text": [
            "[ 4.39911841  6.75378191  8.86654335 11.19241142]\n",
            "[14.3293691  17.15049731 16.13372958]\n"
          ]
        }
      ]
    },
    {
      "cell_type": "markdown",
      "source": [
        "3 inputs Neurons--> 4 hidden Neurons --> 3 output neurons"
      ],
      "metadata": {
        "id": "Db3pVg5BYs6L"
      }
    },
    {
      "cell_type": "code",
      "source": [
        "class Layer:\n",
        "  def __init__(self,n_inputs,n_neurons):\n",
        "    self.weights = np.random.random((n_neurons,n_inputs))\n",
        "    self.biases = np.random.randint(0,10,n_neurons)\n",
        "  def forward(self,inputs):\n",
        "    self.output=np.dot(inputs,self.weights.T) + self.biases\n",
        "\n",
        "\n",
        "\n",
        "inputs = [1,2,3]\n",
        "layer1 = Layer(3,4)\n",
        "\n",
        "layer1.forward(inputs)\n",
        "print(layer1.output)\n",
        "\n",
        "#print(len(layer1.output))\n",
        "\n",
        "layer2 = Layer(len(layer1.output),3)\n",
        "layer2.forward(layer1.output)\n",
        "print(layer2.output)"
      ],
      "metadata": {
        "colab": {
          "base_uri": "https://localhost:8080/"
        },
        "id": "3GxfNfM9XOpc",
        "outputId": "c26991cc-9f24-48fd-dfa2-9993941dbb32"
      },
      "execution_count": 44,
      "outputs": [
        {
          "output_type": "stream",
          "name": "stdout",
          "text": [
            "[11.99496842 11.78337054  8.70343701  5.86013695]\n",
            "[21.00902454 24.33457984 25.12718368]\n"
          ]
        }
      ]
    },
    {
      "cell_type": "markdown",
      "source": [
        "For bath of inputs"
      ],
      "metadata": {
        "id": "aKDfBqoAazr-"
      }
    },
    {
      "cell_type": "code",
      "source": [
        "inputs =np.array([[1,2,3],\n",
        "         [2,3,4],\n",
        "         [3,4,5]])\n",
        "print(inputs.shape)"
      ],
      "metadata": {
        "colab": {
          "base_uri": "https://localhost:8080/"
        },
        "id": "92F9XwQlYC7u",
        "outputId": "4e3af27e-08e8-41a5-9159-992c03e6038d"
      },
      "execution_count": 46,
      "outputs": [
        {
          "output_type": "stream",
          "name": "stdout",
          "text": [
            "(3, 3)\n"
          ]
        }
      ]
    },
    {
      "cell_type": "code",
      "source": [
        "weights = np.random.random((4,3))\n",
        "biases= [2,3,4,5]\n",
        "\n",
        "output = np.dot(inputs,weights.T) + biases\n",
        "print(output)"
      ],
      "metadata": {
        "colab": {
          "base_uri": "https://localhost:8080/"
        },
        "id": "G4EU9MImbXIB",
        "outputId": "819c8dee-85db-4f8e-f33d-9165aacaf575"
      },
      "execution_count": 47,
      "outputs": [
        {
          "output_type": "stream",
          "name": "stdout",
          "text": [
            "[[ 5.8714255   6.2555995   7.64553697  8.01505445]\n",
            " [ 7.49719032  7.66944853  9.38217481  9.90011093]\n",
            " [ 9.12295514  9.08329756 11.11881265 11.78516741]]\n"
          ]
        }
      ]
    },
    {
      "cell_type": "markdown",
      "source": [
        "TF Keras From NerualNine\n"
      ],
      "metadata": {
        "id": "2LB5MNR2OWU7"
      }
    },
    {
      "cell_type": "code",
      "source": [
        "from re import X\n",
        "import cv2\n",
        "import numpy as np\n",
        "import matplotlib.pyplot as plt\n",
        "import tensorflow as tf\n",
        "\n",
        "\n",
        "mnist = tf.keras.datasets.mnist\n",
        "\n",
        "(x_train,y_train), (x_test, y_test) = mnist.load_data()\n",
        "\n",
        "\n",
        "#normalize image\n",
        "#0-255 --> 0-1 brightness\n",
        "\n",
        "x_train = tf.keras.utils.normalize(x_train,axis=1)\n",
        "x_test=tf.keras.utils.normalize(x_test,axis=1)\n",
        "\n",
        "model = tf.keras.models.Sequential()\n",
        "model.add(tf.keras.layers.Flatten(input_shape=(28,28)))\n",
        "model.add(tf.keras.layers.Dense(128,activation='relu'))\n",
        "model.add(tf.keras.layers.Dense(128,activation='relu'))\n",
        "model.add(tf.keras.layers.Dense(10,activation='softmax'))\n",
        "\n",
        "model.compile(optimizer='adam', loss='sparse_categorical_crossentropy',metrics=[\n",
        "    'accuracy'\n",
        "])\n",
        "model.fit(x_train,y_train, epochs=3)"
      ],
      "metadata": {
        "colab": {
          "base_uri": "https://localhost:8080/"
        },
        "id": "8r2fDhrWOaiO",
        "outputId": "9c5d8eab-20cb-4c14-f073-92800e776cdb"
      },
      "execution_count": 4,
      "outputs": [
        {
          "output_type": "stream",
          "name": "stdout",
          "text": [
            "Epoch 1/3\n",
            "1875/1875 [==============================] - 12s 6ms/step - loss: 0.2705 - accuracy: 0.9201\n",
            "Epoch 2/3\n",
            "1875/1875 [==============================] - 6s 3ms/step - loss: 0.1119 - accuracy: 0.9656\n",
            "Epoch 3/3\n",
            "1875/1875 [==============================] - 8s 4ms/step - loss: 0.0757 - accuracy: 0.9764\n"
          ]
        },
        {
          "output_type": "execute_result",
          "data": {
            "text/plain": [
              "<keras.src.callbacks.History at 0x7ae3ac3ea440>"
            ]
          },
          "metadata": {},
          "execution_count": 4
        }
      ]
    },
    {
      "cell_type": "code",
      "source": [
        "loss, accuracy = model.evaluate(x_test,y_test)\n",
        "print(loss)\n",
        "print(accuracy)"
      ],
      "metadata": {
        "colab": {
          "base_uri": "https://localhost:8080/"
        },
        "id": "xh9j_56USvLw",
        "outputId": "f26cdbe5-d42b-4e8d-9609-a19c36b869ea"
      },
      "execution_count": 5,
      "outputs": [
        {
          "output_type": "stream",
          "name": "stdout",
          "text": [
            "313/313 [==============================] - 1s 2ms/step - loss: 0.1034 - accuracy: 0.9679\n",
            "0.10337936878204346\n",
            "0.9678999781608582\n"
          ]
        }
      ]
    },
    {
      "cell_type": "markdown",
      "source": [
        "Mnist pytorch from NerualNine"
      ],
      "metadata": {
        "id": "X5ueJB14NAOq"
      }
    },
    {
      "cell_type": "code",
      "source": [
        "import torchvision\n",
        "from torchvision import datasets\n",
        "from torchvision.transforms import ToTensor"
      ],
      "metadata": {
        "id": "oM5Sg7H9M_-J"
      },
      "execution_count": 24,
      "outputs": []
    },
    {
      "cell_type": "code",
      "source": [
        "train_data=datasets.MNIST(\n",
        "    root= 'data',\n",
        "    train=True,\n",
        "    transform = ToTensor(),\n",
        "    download = True\n",
        ")\n",
        "test_data=datasets.MNIST(\n",
        "    root= 'data',\n",
        "    train=False,\n",
        "    transform = ToTensor(),\n",
        "    download = True\n",
        ")"
      ],
      "metadata": {
        "colab": {
          "base_uri": "https://localhost:8080/"
        },
        "collapsed": true,
        "id": "IJ-uO6g6XSxU",
        "outputId": "f1e616cc-51dd-4ea2-faa5-2b3f3c8fd462"
      },
      "execution_count": 25,
      "outputs": [
        {
          "output_type": "stream",
          "name": "stdout",
          "text": [
            "Downloading http://yann.lecun.com/exdb/mnist/train-images-idx3-ubyte.gz\n",
            "Failed to download (trying next):\n",
            "HTTP Error 403: Forbidden\n",
            "\n",
            "Downloading https://ossci-datasets.s3.amazonaws.com/mnist/train-images-idx3-ubyte.gz\n",
            "Downloading https://ossci-datasets.s3.amazonaws.com/mnist/train-images-idx3-ubyte.gz to data/MNIST/raw/train-images-idx3-ubyte.gz\n"
          ]
        },
        {
          "output_type": "stream",
          "name": "stderr",
          "text": [
            "100%|██████████| 9912422/9912422 [00:00<00:00, 58135001.28it/s]\n"
          ]
        },
        {
          "output_type": "stream",
          "name": "stdout",
          "text": [
            "Extracting data/MNIST/raw/train-images-idx3-ubyte.gz to data/MNIST/raw\n",
            "\n",
            "Downloading http://yann.lecun.com/exdb/mnist/train-labels-idx1-ubyte.gz\n",
            "Failed to download (trying next):\n",
            "HTTP Error 403: Forbidden\n",
            "\n",
            "Downloading https://ossci-datasets.s3.amazonaws.com/mnist/train-labels-idx1-ubyte.gz\n",
            "Downloading https://ossci-datasets.s3.amazonaws.com/mnist/train-labels-idx1-ubyte.gz to data/MNIST/raw/train-labels-idx1-ubyte.gz\n"
          ]
        },
        {
          "output_type": "stream",
          "name": "stderr",
          "text": [
            "100%|██████████| 28881/28881 [00:00<00:00, 1852142.77it/s]"
          ]
        },
        {
          "output_type": "stream",
          "name": "stdout",
          "text": [
            "Extracting data/MNIST/raw/train-labels-idx1-ubyte.gz to data/MNIST/raw\n",
            "\n",
            "Downloading http://yann.lecun.com/exdb/mnist/t10k-images-idx3-ubyte.gz\n"
          ]
        },
        {
          "output_type": "stream",
          "name": "stderr",
          "text": [
            "\n"
          ]
        },
        {
          "output_type": "stream",
          "name": "stdout",
          "text": [
            "Failed to download (trying next):\n",
            "HTTP Error 403: Forbidden\n",
            "\n",
            "Downloading https://ossci-datasets.s3.amazonaws.com/mnist/t10k-images-idx3-ubyte.gz\n",
            "Downloading https://ossci-datasets.s3.amazonaws.com/mnist/t10k-images-idx3-ubyte.gz to data/MNIST/raw/t10k-images-idx3-ubyte.gz\n"
          ]
        },
        {
          "output_type": "stream",
          "name": "stderr",
          "text": [
            "100%|██████████| 1648877/1648877 [00:00<00:00, 13310977.49it/s]\n"
          ]
        },
        {
          "output_type": "stream",
          "name": "stdout",
          "text": [
            "Extracting data/MNIST/raw/t10k-images-idx3-ubyte.gz to data/MNIST/raw\n",
            "\n",
            "Downloading http://yann.lecun.com/exdb/mnist/t10k-labels-idx1-ubyte.gz\n",
            "Failed to download (trying next):\n",
            "HTTP Error 403: Forbidden\n",
            "\n",
            "Downloading https://ossci-datasets.s3.amazonaws.com/mnist/t10k-labels-idx1-ubyte.gz\n",
            "Downloading https://ossci-datasets.s3.amazonaws.com/mnist/t10k-labels-idx1-ubyte.gz to data/MNIST/raw/t10k-labels-idx1-ubyte.gz\n"
          ]
        },
        {
          "output_type": "stream",
          "name": "stderr",
          "text": [
            "100%|██████████| 4542/4542 [00:00<00:00, 3499362.37it/s]"
          ]
        },
        {
          "output_type": "stream",
          "name": "stdout",
          "text": [
            "Extracting data/MNIST/raw/t10k-labels-idx1-ubyte.gz to data/MNIST/raw\n",
            "\n"
          ]
        },
        {
          "output_type": "stream",
          "name": "stderr",
          "text": [
            "\n"
          ]
        }
      ]
    },
    {
      "cell_type": "code",
      "source": [
        "from torch.utils.data import DataLoader\n",
        "\n",
        "loaders = {\n",
        "    'train': DataLoader(train_data,\n",
        "                        batch_size=100,\n",
        "                        shuffle=True,\n",
        "                        num_workers=1),\n",
        "\n",
        "        'test': DataLoader(test_data,\n",
        "                        batch_size=100,\n",
        "                        shuffle=True,\n",
        "                        num_workers=1),\n",
        "}"
      ],
      "metadata": {
        "id": "0N4uo-R6X75G"
      },
      "execution_count": 30,
      "outputs": []
    },
    {
      "cell_type": "code",
      "source": [
        "loaders"
      ],
      "metadata": {
        "colab": {
          "base_uri": "https://localhost:8080/"
        },
        "id": "fLSxGxNOYYRb",
        "outputId": "421ae28a-535e-40ed-b448-1f4afafe0f58"
      },
      "execution_count": 31,
      "outputs": [
        {
          "output_type": "execute_result",
          "data": {
            "text/plain": [
              "{'train': <torch.utils.data.dataloader.DataLoader at 0x7ae34a6bba60>,\n",
              " 'test': <torch.utils.data.dataloader.DataLoader at 0x7ae34a6baaa0>}"
            ]
          },
          "metadata": {},
          "execution_count": 31
        }
      ]
    },
    {
      "cell_type": "code",
      "source": [
        "import torch.nn as nn\n",
        "import torch.nn.functional as F\n",
        "import torch.optim as optim\n",
        "\n",
        "class CNN(nn.M)"
      ],
      "metadata": {
        "id": "fihL8vHSYwev"
      },
      "execution_count": null,
      "outputs": []
    },
    {
      "cell_type": "markdown",
      "source": [],
      "metadata": {
        "id": "qdobZgp2ZCpa"
      }
    }
  ]
}